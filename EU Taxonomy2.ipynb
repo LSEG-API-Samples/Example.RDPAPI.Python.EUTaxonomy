{
 "cells": [
  {
   "attachments": {},
   "cell_type": "markdown",
   "metadata": {},
   "source": [
    "## EU Taxonomy 2"
   ]
  },
  {
   "cell_type": "code",
   "execution_count": null,
   "metadata": {},
   "outputs": [],
   "source": [
    "# load imports\n",
    "import pandas as pd\n",
    "import numpy as np\n",
    "import json, math\n",
    "import plotly.graph_objects as go\n",
    "import ipywidgets as widgets\n",
    "from IPython.display import display, HTML\n",
    "# set dataframe options\n",
    "pd.set_option('display.max_columns', None)"
   ]
  },
  {
   "cell_type": "code",
   "execution_count": null,
   "metadata": {},
   "outputs": [],
   "source": [
    "# execute the helper functions defined for accessing RDP REST API calls \n",
    "%run RDPDefines.ipynb"
   ]
  },
  {
   "attachments": {},
   "cell_type": "markdown",
   "metadata": {},
   "source": [
    "### Load the pre-downloaded database for EU Taxonomy"
   ]
  },
  {
   "cell_type": "code",
   "execution_count": null,
   "metadata": {},
   "outputs": [],
   "source": [
    "orgs = pd.read_pickle('OrganizationClassification.pkl').astype({\n",
    "\t'AlignedFlag': object,\n",
    "\t'AsReportedFlag': bool,\n",
    "\t'CurrencyId': int,\n",
    "\t'CurrencyIdISO': object,\n",
    "\t'CurrencyIdDESC': object,\n",
    "\t'FinancialPeriodId': object,\n",
    "\t'GreenRevenueSourcedFlag': object,\n",
    "\t'MinimumSocialSafeguardComment': object,\n",
    "\t'MinimumSocialSafeguardPassedFlag': object,\n",
    "\t'OrganizationId': np.int64,\n",
    "\t'PeriodFiscalYear': int,\n",
    "\t'TotalCapexAmount': float,\n",
    "\t'TotalEligibleAlignedCapexAmount': float,\n",
    "\t'TotalEligibleAlignedCapexPercent': float,\n",
    "\t'TotalEligibleAlignedOpexAmount': float,\n",
    "\t'TotalEligibleAlignedOpexPercent': float,\n",
    "\t'TotalEligibleAlignedRevenueAmount': float,\n",
    "\t'TotalEligibleAlignedRevenuePercent': float,\n",
    "\t'TotalEligibleCapexAmount': float,\n",
    "\t'TotalEligibleCapexPercent': float,\n",
    "\t'TotalEligibleNotAlignedCapexAmount': float,\n",
    "\t'TotalEligibleNotAlignedCapexPercent': float,\n",
    "\t'TotalEligibleNotAlignedOpexAmount': float,\n",
    "\t'TotalEligibleNotAlignedOpexPercent': float,\n",
    "\t'TotalEligibleNotAlignedRevenueAmount': float,\n",
    "\t'TotalEligibleNotAlignedRevenuePercent': float,\n",
    "\t'TotalEligibleOpexAmount': float,\n",
    "\t'TotalEligibleOpexPercent': float,\n",
    "\t'TotalEligibleRevenueAmount': float,\n",
    "\t'TotalEligibleRevenuePercent': float,\n",
    "\t'TotalNotEligibleCapexAmount': float,\n",
    "\t'TotalNotEligibleCapexPercent': float,\n",
    "\t'TotalNotEligibleOpexAmount': float,\n",
    "\t'TotalNotEligibleOpexPercent': float,\n",
    "\t'TotalNotEligibleRevenueAmount': float,\n",
    "\t'TotalNotEligibleRevenuePercent': float,\n",
    "\t'TotalOpexAmount': float,\n",
    "\t'TotalRevenueAmount': float\n",
    "})\n",
    "orgs.head()"
   ]
  },
  {
   "cell_type": "code",
   "execution_count": null,
   "metadata": {},
   "outputs": [],
   "source": [
    "# load the MSS dataset\n",
    "mss = pd.read_pickle('SocialSafeguards.pkl').astype({\n",
    "\t'OrganizationId': np.int64,\n",
    "\t'MSS-9': bool,\n",
    "\t'MSS-5': bool,\n",
    "\t'MSS-6': bool,\n",
    "\t'MSS-7': bool,\n",
    "\t'MSS-8': bool,\n",
    "\t'MSS-1': bool,\n",
    "\t'MSS-2': bool,\n",
    "\t'MSS-11': bool,\n",
    "\t'MSS-3': bool,\n",
    "\t'MSS-10': bool,\n",
    "\t'MSS-4': bool,\n",
    "})\n",
    "mss.head()"
   ]
  },
  {
   "cell_type": "markdown",
   "metadata": {},
   "source": [
    "### Load the equity portfolio to be analized\n",
    "Portfolio is a CSV file with the constituent *RIC* and corresponding *Weight*\n",
    "|RIC|WEIGHT|\n",
    "|--|--|\n",
    "|AAPL.O|0.23|\n",
    "|MSFT.O|0.21|\n",
    "|..|..|"
   ]
  },
  {
   "cell_type": "code",
   "execution_count": null,
   "metadata": {},
   "outputs": [],
   "source": [
    "# load the portfolio to be analized\n",
    "portfolio = pd.read_csv('Portfolio.csv')\n",
    "portfolio"
   ]
  },
  {
   "cell_type": "markdown",
   "metadata": {},
   "source": [
    "Lookup *Organization PermID* and *Reporting currency* for all instruments\n",
    "\n",
    "RDP SYmbology API: [/data/symbology/beta1/convert]()"
   ]
  },
  {
   "cell_type": "code",
   "execution_count": null,
   "metadata": {},
   "outputs": [],
   "source": [
    "allResponses = []\n",
    "RIClist = portfolio['RIC'].tolist()\n",
    "bucketSize = 90\n",
    "\n",
    "buckets = [ RIClist[i: i + bucketSize] for i in range(0, len(RIClist), bucketSize) ]\n",
    "for bucket in buckets:\n",
    "  reqData = {\n",
    "    \"universe\": bucket,\n",
    "    \"to\": [\"OrganizationId\"]\n",
    "  }\n",
    "\n",
    "  hResp = postRequest('/data/symbology/beta1/convert', reqData)\n",
    "  print(hResp)\n",
    "  allResponses = allResponses + hResp['universe']"
   ]
  },
  {
   "cell_type": "code",
   "execution_count": null,
   "metadata": {},
   "outputs": [],
   "source": [
    "# merge Symbology and Currency data into the portfolio\n",
    "orgsData = pd.DataFrame(allResponses)\n",
    "portfolio = portfolio.merge(orgsData, how='inner', left_on='RIC', right_on='Instrument')\n",
    "portfolio = portfolio.drop(['Instrument'], axis = 1)\n",
    "portfolio['Organization PermID'] = portfolio['Organization PermID'].astype(np.int64)\n",
    "portfolio"
   ]
  },
  {
   "cell_type": "code",
   "execution_count": null,
   "metadata": {},
   "outputs": [],
   "source": [
    "# merge the taxonomy data into the portfolio\n",
    "temp = portfolio.merge(mss, how='left', left_on='Organization PermID', right_on='OrganizationId')\n",
    "temp.drop('OrganizationId', axis=1, inplace=True)\n",
    "mPortfolio = temp.merge(orgs, how='left', left_on='Organization PermID', right_on='OrganizationId')\n",
    "latestFYear = mPortfolio['PeriodFiscalYear'].max()\n",
    "mPortfolio['PeriodFiscalYear'].fillna(latestFYear, inplace=True)\n",
    "mPortfolio.head()"
   ]
  },
  {
   "cell_type": "code",
   "execution_count": null,
   "metadata": {},
   "outputs": [],
   "source": [
    "# summarize the data for the latest FY\n",
    "df1 = mPortfolio[mPortfolio['PeriodFiscalYear'] == latestFYear]\n",
    "df1.reset_index(drop=True, inplace=True)"
   ]
  },
  {
   "cell_type": "markdown",
   "metadata": {},
   "source": [
    "### Draw the stats for the whole portfolio for latest Fiscal Year"
   ]
  },
  {
   "cell_type": "code",
   "execution_count": null,
   "metadata": {},
   "outputs": [],
   "source": [
    "# function below sets the color based on amount\n",
    "def SetColor(x):\n",
    "    if(x > 69):\n",
    "        return \"green\"\n",
    "    elif(x < 30):\n",
    "        return \"red\"\n",
    "    else:\n",
    "        return \"darkgoldenrod\"\n",
    "\n",
    "def generateIndicator(value, total, header, row, col):\n",
    "    vPer = (value / total) * 100\n",
    "    return go.Indicator(\n",
    "        mode = \"gauge+number\",\n",
    "        value = vPer,\n",
    "        domain = {'row': row, 'column': col},\n",
    "        title = {'text': header },\n",
    "        gauge = { 'axis': {'range': [None, 100]},\n",
    "                'bar': {'color': SetColor(vPer)},\n",
    "                })    \n",
    "\n",
    "# plot the data for latest FY\n",
    "totalInstruments = len(df1)\n",
    "TaxoCovered = len(df1['OrganizationId'].dropna())\n",
    "alignedFlag = df1['AlignedFlag'].sum()\n",
    "greenRevenueFlag = df1['GreenRevenueSourcedFlag'].sum()\n",
    "ssgPassedFlag = df1['MinimumSocialSafeguardPassedFlag'].sum()\n",
    "\n",
    "fig = go.Figure()\n",
    "fig.add_trace(generateIndicator(TaxoCovered, totalInstruments, 'Coverage % ({}/{} have Taxonomy data)'.format(TaxoCovered, totalInstruments), 0, 1))\n",
    "fig.add_trace(generateIndicator(alignedFlag, totalInstruments, 'Aligned %', 1, 0))\n",
    "fig.add_trace(generateIndicator(greenRevenueFlag, totalInstruments, 'Green Revenue %', 1, 1))\n",
    "fig.add_trace(generateIndicator(ssgPassedFlag, totalInstruments, 'Minimum Social Safeguard Passed %', 1, 2))\n",
    "fig.update_layout(grid = {'rows': 2, 'columns': 3, 'pattern': \"independent\"}, title_text=\"Portfolio Ratios\")\n",
    "fig.show()\n",
    "\n",
    "\n",
    "# TODO: !!! Important: Convert the revenue amounts to a single currency -> USD !!!\n",
    "\n",
    "\n",
    "# Scale the revenue amounts according to portfolio weights\n",
    "eligibleAlignedRev = (df1['TotalEligibleAlignedRevenueAmount'] * df1['Weight']).sum()\n",
    "eligibleNotAlignedRev = (df1['TotalEligibleNotAlignedRevenueAmount'] * df1['Weight']).sum()\n",
    "totalEligibleRev = (df1['TotalEligibleRevenueAmount'] * df1['Weight']).sum()\n",
    "totalNotEligibleRev = (df1['TotalNotEligibleRevenueAmount'] * df1['Weight']).sum()\n",
    "totalRev = (df1['TotalRevenueAmount'] * df1['Weight']).sum()\n",
    "\n",
    "fig = go.Figure()\n",
    "fig.add_trace(go.Indicator(\n",
    "        mode = \"number\",\n",
    "        value = totalRev,\n",
    "        domain = {'row': 0, 'column': 0},\n",
    "        title = {'text': 'Total Revenue' },\n",
    "        gauge = { 'axis': {'range': [None, 100]}}))\n",
    "\n",
    "fig.add_trace(generateIndicator(eligibleAlignedRev, totalRev, 'Eligible Aligned Revenue %', 1, 1))\n",
    "fig.add_trace(generateIndicator(eligibleNotAlignedRev, totalRev, 'Eligible Not-Aligned Revenue %', 1, 2))\n",
    "fig.add_trace(generateIndicator(totalEligibleRev, totalRev, 'Eligible Revenue %', 0, 1))\n",
    "fig.add_trace(generateIndicator(totalNotEligibleRev, totalRev, 'Not-Eligible Revenue %', 0, 2))\n",
    "fig.update_layout(grid = {'rows': 2, 'columns': 3, 'pattern': \"independent\"}, title_text=\"Portfolio Revenue\")\n",
    "fig.show()"
   ]
  },
  {
   "cell_type": "markdown",
   "metadata": {},
   "source": [
    "### Show the Taxonomy alignment for individual holdings"
   ]
  },
  {
   "cell_type": "code",
   "execution_count": null,
   "metadata": {},
   "outputs": [],
   "source": [
    "# filtered = pd.DataFrame()\n",
    "output = widgets.Output()\n",
    "\n",
    "ricsDD = widgets.Dropdown(options = sorted(mPortfolio['RIC'].unique()), description='RIC:')\n",
    "fyDD = widgets.Dropdown(options = sorted(mPortfolio['PeriodFiscalYear'].unique().astype(int)), description='FY:')\n",
    "\n",
    "def filterData(newRIC, newFY):\n",
    "    # global filtered\n",
    "    # output.clear_output()\n",
    "    filtered = mPortfolio[(mPortfolio['RIC'] == newRIC) & (mPortfolio['PeriodFiscalYear'] == newFY)]\n",
    "    with output:\n",
    "        if len(filtered) == 0:\n",
    "            output.clear_output()\n",
    "            display(HTML('<div style=\"font-size: 40px;\">No Data</div>'))\n",
    "        else:    \n",
    "            tRow = filtered.iloc[0]\n",
    "            def fmt1(ky):\n",
    "                return '{0:,.0f} M'.format(tRow[ky]/1000000)\n",
    "\n",
    "            def fmt2(ky1, ky2):\n",
    "                return '{0:,.0f} M'.format(tRow[ky1]/1000000) + ' ({0:.2g} %)'.format(tRow[ky2])\n",
    "\n",
    "            fHtml = '<div id=\"myDiv\"><div style=\"font-size: 50px; color: #0000E0;\">' + tRow['Company Common Name'] + '</div><table><tr><td><div style=\"font-size: 30px;\">' + tRow['RIC'] + '</div><div style=\"font-size: 20px; color: #707070;\">RIC</div></td><td><div style=\"font-size: 30px;\">' + tRow['Reporting Currency'] + '</div><div style=\"font-size: 20px; color: #707070;\">Currency</div></td><td><span style=\"font-size: 20px; color: #707070;\">Is Aligned</span></td><td><span style=\"font-size: 20px;\">' + str(tRow['AlignedFlag']) + '</span></td></tr><tr><td><div style=\"font-size: 30px;\">' + str(tRow['Organization PermID']) + '</div><div style=\"font-size: 20px; color: #707070;\">Org PermID</div></td><td><div style=\"font-size: 30px;\">' + '{0:.0f}'.format(tRow['PeriodFiscalYear']) + '</div><div style=\"font-size: 20px; color: #707070;\">Fiscal Year</div></td><td><span style=\"font-size: 20px; color: #707070;\">As Reported</span></td><td><span style=\"font-size: 20px;\">' + str(tRow['AsReportedFlag']) + '</span></td></tr><tr><td><div style=\"font-size: 30px;\">' + '{0:.2g} %'.format(tRow['Weight']) + '</div><div style=\"font-size: 20px; color: #707070;\">Weight</div></td><td><div style=\"font-size: 30px;\">' + fmt1('TotalRevenueAmount') + '</div><div style=\"font-size: 20px; color: #707070;\">Total Revenue</div></td><td><span style=\"font-size: 20px; color: #707070;\">Is Green Revenue</span></td><td><span style=\"font-size: 20px;\">' + str(tRow['GreenRevenueSourcedFlag']) + '</span></td></tr><tr><td>&nbsp;</td><td><div style=\"font-size: 30px;\">' + fmt1('TotalCapexAmount') + '</div><div style=\"font-size: 20px; color: #707070;\">Total Capex</div></td><td><span style=\"font-size: 20px; color: #707070;\">MSS Passed</span></td><td><span style=\"font-size: 20px;\">' + str(tRow['MinimumSocialSafeguardPassedFlag']) + '</span></td></tr><tr><td/><td><div style=\"font-size: 30px;\">' + fmt1('TotalOpexAmount') + '</div><div style=\"font-size: 20px; color: #707070;\">Total Opex</div></td><td><span style=\"font-size: 20px; color: #707070;\">MSS Comment</span></td><td><span style=\"font-size: 20px;\">' + str(tRow['MinimumSocialSafeguardComment']) + '</span></td></tr></table><table><tr><td><table><tr><td><span style=\"font-size: 30px; color: #000070;\">Revenue</span></td><td><span style=\"font-size: 20px;\">&nbsp;</span></td></tr><tr><td><span style=\"font-size: 20px; color: #707070;\">Eligible Aligned Capex</span></td><td><span style=\"font-size: 20px;\">' + fmt2('TotalEligibleAlignedCapexAmount','TotalEligibleAlignedCapexPercent') + '</span></td></tr><tr><td><span style=\"font-size: 20px; color: #707070;\">Eligible Aligned Opex</span></td><td><span style=\"font-size: 20px;\">' + fmt2('TotalEligibleAlignedOpexAmount','TotalEligibleAlignedOpexPercent') + '</span></td></tr><tr><td><span style=\"font-size: 20px; color: #707070;\">Eligible Aligned Revenue</span></td><td><span style=\"font-size: 20px;\">' + fmt2('TotalEligibleAlignedRevenueAmount','TotalEligibleAlignedRevenuePercent') + '</span></td></tr><tr><td><span style=\"font-size: 20px; color: #707070;\">Eligible Capex</span></td><td><span style=\"font-size: 20px;\">' + fmt2('TotalEligibleCapexAmount','TotalEligibleCapexPercent') + '</span></td></tr><tr><td><span style=\"font-size: 20px; color: #707070;\">Eligible NotAligned Capex</span></td><td><span style=\"font-size: 20px;\">' + fmt2('TotalEligibleNotAlignedCapexAmount','TotalEligibleNotAlignedCapexPercent') + '</span></td></tr><tr><td><span style=\"font-size: 20px; color: #707070;\">Eligible NotAligned Opex</span></td><td><span style=\"font-size: 20px;\">' + fmt2('TotalEligibleNotAlignedOpexAmount','TotalEligibleNotAlignedOpexPercent') + '</span></td></tr><tr><td><span style=\"font-size: 20px; color: #707070;\">Eligible NotAligned Revenue</span></td><td><span style=\"font-size: 20px;\">' + fmt2('TotalEligibleNotAlignedRevenueAmount','TotalEligibleNotAlignedRevenuePercent') + '</span></td></tr><tr><td><span style=\"font-size: 20px; color: #707070;\">Eligible Opex</span></td><td><span style=\"font-size: 20px;\">' + fmt2('TotalEligibleOpexAmount','TotalEligibleOpexPercent') + '</span></td></tr><tr><td><span style=\"font-size: 20px; color: #707070;\">Eligible Revenue</span></td><td><span style=\"font-size: 20px;\">' + fmt2('TotalEligibleRevenueAmount','TotalEligibleRevenuePercent') + '</span></td></tr><tr><td><span style=\"font-size: 20px; color: #707070;\">Not Eligible Capex</span></td><td><span style=\"font-size: 20px;\">' + fmt2('TotalNotEligibleCapexAmount','TotalNotEligibleCapexPercent') + '</span></td></tr><tr><td><span style=\"font-size: 20px; color: #707070;\">Not Eligible Opex</span></td><td><span style=\"font-size: 20px;\">' + fmt2('TotalNotEligibleOpexAmount','TotalNotEligibleOpexPercent') + '</span></td></tr><tr><td><span style=\"font-size: 20px; color: #707070;\">Not Eligible Revenue</span></td><td><span style=\"font-size: 20px;\">' + fmt2('TotalNotEligibleRevenueAmount', 'TotalNotEligibleRevenuePercent') + '</span></td></tr></table></td><td><table><tr><td><span style=\"font-size: 30px; color: #000070;\">Social Safeguards</span></td><td><span style=\"font-size: 20px;\">&nbsp;</span></td></tr><tr><td><span style=\"font-size: 20px; color: #707070;\">Human Rights Policy</span></td><td><span style=\"font-size: 20px;\">' + str(tRow['MSS-1']) + '</span></td></tr><tr><td><span style=\"font-size: 20px; color: #707070;\">Child Labor Policy</span></td><td><span style=\"font-size: 20px;\">' + str(tRow['MSS-2']) + '</span></td></tr><tr><td><span style=\"font-size: 20px; color: #707070;\">Forced Labor Policy</span></td><td><span style=\"font-size: 20px;\">' + str(tRow['MSS-3']) + '</span></td></tr><tr><td><span style=\"font-size: 20px; color: #707070;\">Diversity Policy</span></td><td><span style=\"font-size: 20px;\">' + str(tRow['MSS-4']) + '</span></td></tr><tr><td><span style=\"font-size: 20px; color: #707070;\">Freedom of Association Policy</span></td><td><span style=\"font-size: 20px;\">' + str(tRow['MSS-5']) + '</span></td></tr><tr><td><span style=\"font-size: 20px; color: #707070;\">Bribery and Corruption Policy</span></td><td><span style=\"font-size: 20px;\">' + str(tRow['MSS-6']) + '</span></td></tr><tr><td><span style=\"font-size: 20px; color: #707070;\">Whistleblower Protection</span></td><td><span style=\"font-size: 20px;\">' + str(tRow['MSS-7']) + '</span></td></tr><tr><td><span style=\"font-size: 20px; color: #707070;\">Fundamental Human Rights</span></td><td><span style=\"font-size: 20px;\">' + str(tRow['MSS-8']) + '</span></td></tr><tr><td><span style=\"font-size: 20px; color: #707070;\">Health and Safety Policy</span></td><td><span style=\"font-size: 20px;\">' + str(tRow['MSS-9']) + '</span></td></tr><tr><td><span style=\"font-size: 20px; color: #707070;\">Diversity and Oppertunity</span></td><td><span style=\"font-size: 20px;\">' + str(tRow['MSS-10']) + '</span></td></tr><tr><td><span style=\"font-size: 20px; color: #707070;\">Business Ethics Policy</span></td><td><span style=\"font-size: 20px;\">' + str(tRow['MSS-11']) + '</span></td></tr></table></td></tr></table></div>'\n",
    "            output.clear_output()\n",
    "            display(HTML(fHtml))\n",
    "\n",
    "def ricsDDEH(change):\n",
    "    filterData(change.new, fyDD.value)\n",
    "\n",
    "def fyDDEH(change):\n",
    "    filterData(ricsDD.value, change.new)\n",
    "\n",
    "ricsDD.observe(ricsDDEH, names='value')\n",
    "fyDD.observe(fyDDEH, names='value')\n",
    "input_widgets = widgets.HBox([ricsDD, fyDD])\n",
    "display(input_widgets)\n",
    "display(output)"
   ]
  },
  {
   "cell_type": "code",
   "execution_count": null,
   "metadata": {},
   "outputs": [],
   "source": []
  },
  {
   "cell_type": "markdown",
   "metadata": {},
   "source": [
    "### ONE TIME PROCESS - Download the bulk JSON files"
   ]
  },
  {
   "cell_type": "code",
   "execution_count": null,
   "metadata": {},
   "outputs": [],
   "source": [
    "# define the download function\n",
    "def downloadJSONBulkFile(bucketName, fileAttributes, fileNameKeywords):\n",
    "    # get a list of all the buckets\n",
    "    hResp = getRequest('/file-store/v1/file-sets?bucket=' + bucketName + '&pageSize=100&attributes=' + fileAttributes)\n",
    "    print(hResp)\n",
    "    # loop through all the buckets\n",
    "    for bucket in hResp['value']:\n",
    "        bName = bucket['name']\n",
    "        # does bucket contains all the matching keywords\n",
    "        if all([x in bName for x in fileNameKeywords]):\n",
    "            fileName = bucket['files'][0]\n",
    "            print('Found bucket: ', bName, ', FileName: ', fileName)\n",
    "            # stop any more searching\n",
    "            break\n",
    "    \n",
    "    if not fileName:\n",
    "        raise Exception('No matching bulk file found in bucket:'.format(bucketName))\n",
    "\n",
    "    # download and uncompress the file object\n",
    "    fileStr = downloadUncompressFile('/file-store/v1/files/' + fileName + '/stream')\n",
    "    print('File downloaded and uncompressed, size: ', len(fileStr))\n",
    "    return fileStr\n"
   ]
  },
  {
   "cell_type": "markdown",
   "metadata": {},
   "source": [
    "#### Download and save the Bulk EU Taxonomy file"
   ]
  },
  {
   "cell_type": "code",
   "execution_count": null,
   "metadata": {},
   "outputs": [],
   "source": [
    "# download the EU Taxonomy classification bulk file\n",
    "jsonlFile = downloadJSONBulkFile('Bulk-EuTax', 'ContentType:EuTax Global OrganizationClassification Full', ['Full', 'Json', 'Init'])\n",
    "# parse out the entries in the file\n",
    "orgData = []\n",
    "for l in jsonlFile.splitlines():\n",
    "    jObj = json.loads(l)\n",
    "    orgData.append(jObj['EUTaxonomyOrganizationClassification'])\n",
    "print('Loaded {} organizations'.format(len(orgData)))\n",
    "    "
   ]
  },
  {
   "cell_type": "code",
   "execution_count": null,
   "metadata": {},
   "outputs": [],
   "source": [
    "# load the dataset into a pandas dataframe\n",
    "df1 = pd.DataFrame(orgData)\n",
    "# save the database\n",
    "df1.to_pickle('OrganizationClassification.pkl')"
   ]
  },
  {
   "cell_type": "markdown",
   "metadata": {},
   "source": [
    "### Other EU Taxonomy bulk files available are:\n",
    "* EuTax Global SegmentClassification Full\n",
    "* EuTax Global ObjectiveClassification Full\n",
    "* EuTax Global PassedSocialSafeguard Full\n",
    "* EuTax Global GreenRevenueBreakout Full\n",
    "* EuTax Global Financial Segment Full\n",
    "* EuTax Global Activity Full\n",
    "* EuTax Global SegmentRevenueBreakdown Full\n",
    "* EuTax Global OrganizationClassification Full\n",
    "\n"
   ]
  },
  {
   "cell_type": "code",
   "execution_count": null,
   "metadata": {},
   "outputs": [],
   "source": [
    "# download the Mininum Social Safeguards bulk file\n",
    "jsonlFile = downloadJSONBulkFile('Bulk-EuTax', 'ContentType:EuTax Global PassedSocialSafeguard Full', ['Full', 'Json', 'Init'])\n",
    "\n",
    "flags = []\n",
    "for l in jsonlFile.splitlines():\n",
    "    jObj = json.loads(l)\n",
    "    d = {}\n",
    "    d['OrganizationId'] = jObj['ObjectId'].split(';', 1)[0]\n",
    "    for flag in jObj['PassedSocialSafeguard']['PassedSocialSafeguards']:\n",
    "        d[flag['TechnicalScreeningCriteriaId']] = flag['PassedFlag']\n",
    "    flags.append(d)"
   ]
  },
  {
   "cell_type": "code",
   "execution_count": null,
   "metadata": {},
   "outputs": [],
   "source": [
    "# load the dataset into a pandas dataframe\n",
    "df2 = pd.DataFrame(flags)\n",
    "# save into a pickle\n",
    "df2.to_pickle('SocialSafeguards.pkl')"
   ]
  }
 ],
 "metadata": {
  "kernelspec": {
   "display_name": "dzone",
   "language": "python",
   "name": "python3"
  },
  "language_info": {
   "codemirror_mode": {
    "name": "ipython",
    "version": 3
   },
   "file_extension": ".py",
   "mimetype": "text/x-python",
   "name": "python",
   "nbconvert_exporter": "python",
   "pygments_lexer": "ipython3",
   "version": "3.9.6"
  },
  "orig_nbformat": 4,
  "vscode": {
   "interpreter": {
    "hash": "1ffa745bed9fc5df41946757b62d2468a6f80450f52a8b9e07da7d984fdf5508"
   }
  }
 },
 "nbformat": 4,
 "nbformat_minor": 2
}
